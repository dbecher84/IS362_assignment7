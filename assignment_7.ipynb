{
 "cells": [
  {
   "cell_type": "code",
   "execution_count": 1,
   "metadata": {},
   "outputs": [],
   "source": [
    "import pandas as pd\n",
    "import numpy as np"
   ]
  },
  {
   "cell_type": "markdown",
   "metadata": {},
   "source": [
    "location of the csv file to import"
   ]
  },
  {
   "cell_type": "code",
   "execution_count": null,
   "metadata": {},
   "outputs": [],
   "source": [
    "file = 'C:\\\\Users\\\\dbech\\\\Documents\\\\IS362\\\\assignment_7\\\\movie_survey.csv'"
   ]
  },
  {
   "cell_type": "markdown",
   "metadata": {},
   "source": [
    "load the csv file into a dataframe, set the index column to the reviewers name, and change all the number to floating point."
   ]
  },
  {
   "cell_type": "code",
   "execution_count": 35,
   "metadata": {},
   "outputs": [
    {
     "data": {
      "text/html": [
       "<div>\n",
       "<style scoped>\n",
       "    .dataframe tbody tr th:only-of-type {\n",
       "        vertical-align: middle;\n",
       "    }\n",
       "\n",
       "    .dataframe tbody tr th {\n",
       "        vertical-align: top;\n",
       "    }\n",
       "\n",
       "    .dataframe thead th {\n",
       "        text-align: right;\n",
       "    }\n",
       "</style>\n",
       "<table border=\"1\" class=\"dataframe\">\n",
       "  <thead>\n",
       "    <tr style=\"text-align: right;\">\n",
       "      <th></th>\n",
       "      <th>Avengers Infinity War</th>\n",
       "      <th>Spiderman</th>\n",
       "      <th>Guardians of the Galaxy Vol 1</th>\n",
       "      <th>A Simple Favor</th>\n",
       "      <th>Star Wars the Last Jedi</th>\n",
       "      <th>My Cousin Vini</th>\n",
       "    </tr>\n",
       "  </thead>\n",
       "  <tbody>\n",
       "    <tr>\n",
       "      <th>Rebecca</th>\n",
       "      <td>3.0</td>\n",
       "      <td>NaN</td>\n",
       "      <td>4.0</td>\n",
       "      <td>5.0</td>\n",
       "      <td>NaN</td>\n",
       "      <td>3.0</td>\n",
       "    </tr>\n",
       "    <tr>\n",
       "      <th>Brian</th>\n",
       "      <td>4.0</td>\n",
       "      <td>4.0</td>\n",
       "      <td>NaN</td>\n",
       "      <td>NaN</td>\n",
       "      <td>4.0</td>\n",
       "      <td>5.0</td>\n",
       "    </tr>\n",
       "    <tr>\n",
       "      <th>Justin</th>\n",
       "      <td>5.0</td>\n",
       "      <td>NaN</td>\n",
       "      <td>4.0</td>\n",
       "      <td>3.0</td>\n",
       "      <td>2.0</td>\n",
       "      <td>3.0</td>\n",
       "    </tr>\n",
       "    <tr>\n",
       "      <th>Kristin</th>\n",
       "      <td>NaN</td>\n",
       "      <td>3.0</td>\n",
       "      <td>NaN</td>\n",
       "      <td>NaN</td>\n",
       "      <td>4.0</td>\n",
       "      <td>2.0</td>\n",
       "    </tr>\n",
       "    <tr>\n",
       "      <th>Nadia</th>\n",
       "      <td>3.0</td>\n",
       "      <td>2.0</td>\n",
       "      <td>3.0</td>\n",
       "      <td>4.0</td>\n",
       "      <td>NaN</td>\n",
       "      <td>4.0</td>\n",
       "    </tr>\n",
       "  </tbody>\n",
       "</table>\n",
       "</div>"
      ],
      "text/plain": [
       "         Avengers Infinity War  Spiderman  Guardians of the Galaxy Vol 1  \\\n",
       "Rebecca                    3.0        NaN                            4.0   \n",
       "Brian                      4.0        4.0                            NaN   \n",
       "Justin                     5.0        NaN                            4.0   \n",
       "Kristin                    NaN        3.0                            NaN   \n",
       "Nadia                      3.0        2.0                            3.0   \n",
       "\n",
       "         A Simple Favor  Star Wars the Last Jedi  My Cousin Vini  \n",
       "Rebecca             5.0                      NaN             3.0  \n",
       "Brian               NaN                      4.0             5.0  \n",
       "Justin              3.0                      2.0             3.0  \n",
       "Kristin             NaN                      4.0             2.0  \n",
       "Nadia               4.0                      NaN             4.0  "
      ]
     },
     "execution_count": 35,
     "metadata": {},
     "output_type": "execute_result"
    }
   ],
   "source": [
    "movie_survey = pd.read_csv(file, index_col = 0)\n",
    "movie_survey = movie_survey.astype(float)\n",
    "movie_survey"
   ]
  },
  {
   "cell_type": "markdown",
   "metadata": {},
   "source": [
    "find the average rating for each movie"
   ]
  },
  {
   "cell_type": "code",
   "execution_count": 36,
   "metadata": {},
   "outputs": [
    {
     "data": {
      "text/plain": [
       "Avengers Infinity War            3.750000\n",
       "Spiderman                        3.000000\n",
       "Guardians of the Galaxy Vol 1    3.666667\n",
       "A Simple Favor                   4.000000\n",
       "Star Wars the Last Jedi          3.333333\n",
       "My Cousin Vini                   3.400000\n",
       "dtype: float64"
      ]
     },
     "execution_count": 36,
     "metadata": {},
     "output_type": "execute_result"
    }
   ],
   "source": [
    "movie_survey.mean()"
   ]
  },
  {
   "cell_type": "markdown",
   "metadata": {},
   "source": [
    "find the average rating for each reviewer"
   ]
  },
  {
   "cell_type": "code",
   "execution_count": 37,
   "metadata": {},
   "outputs": [
    {
     "data": {
      "text/plain": [
       "Rebecca    3.75\n",
       "Brian      4.25\n",
       "Justin     3.40\n",
       "Kristin    3.00\n",
       "Nadia      3.20\n",
       "dtype: float64"
      ]
     },
     "execution_count": 37,
     "metadata": {},
     "output_type": "execute_result"
    }
   ],
   "source": [
    "movie_survey.mean(axis=1)"
   ]
  },
  {
   "cell_type": "markdown",
   "metadata": {},
   "source": [
    "New dataframe with normalized ratings by reviewer\n",
    "\n",
    "Feature Scaling (min max):\n",
    "normalized value(x) = (value(x) - minimum value) / (maximum value - minimum value)"
   ]
  },
  {
   "cell_type": "code",
   "execution_count": 62,
   "metadata": {},
   "outputs": [
    {
     "data": {
      "text/html": [
       "<div>\n",
       "<style scoped>\n",
       "    .dataframe tbody tr th:only-of-type {\n",
       "        vertical-align: middle;\n",
       "    }\n",
       "\n",
       "    .dataframe tbody tr th {\n",
       "        vertical-align: top;\n",
       "    }\n",
       "\n",
       "    .dataframe thead th {\n",
       "        text-align: right;\n",
       "    }\n",
       "</style>\n",
       "<table border=\"1\" class=\"dataframe\">\n",
       "  <thead>\n",
       "    <tr style=\"text-align: right;\">\n",
       "      <th></th>\n",
       "      <th>Avengers Infinity War</th>\n",
       "      <th>Spiderman</th>\n",
       "      <th>Guardians of the Galaxy Vol 1</th>\n",
       "      <th>A Simple Favor</th>\n",
       "      <th>Star Wars the Last Jedi</th>\n",
       "      <th>My Cousin Vini</th>\n",
       "    </tr>\n",
       "  </thead>\n",
       "  <tbody>\n",
       "    <tr>\n",
       "      <th>Rebecca</th>\n",
       "      <td>0.0</td>\n",
       "      <td>NaN</td>\n",
       "      <td>0.500000</td>\n",
       "      <td>1.000000</td>\n",
       "      <td>NaN</td>\n",
       "      <td>0.000000</td>\n",
       "    </tr>\n",
       "    <tr>\n",
       "      <th>Brian</th>\n",
       "      <td>0.0</td>\n",
       "      <td>0.0</td>\n",
       "      <td>NaN</td>\n",
       "      <td>NaN</td>\n",
       "      <td>0.0</td>\n",
       "      <td>1.000000</td>\n",
       "    </tr>\n",
       "    <tr>\n",
       "      <th>Justin</th>\n",
       "      <td>1.0</td>\n",
       "      <td>NaN</td>\n",
       "      <td>0.666667</td>\n",
       "      <td>0.333333</td>\n",
       "      <td>0.0</td>\n",
       "      <td>0.333333</td>\n",
       "    </tr>\n",
       "    <tr>\n",
       "      <th>Kristin</th>\n",
       "      <td>NaN</td>\n",
       "      <td>0.5</td>\n",
       "      <td>NaN</td>\n",
       "      <td>NaN</td>\n",
       "      <td>1.0</td>\n",
       "      <td>0.000000</td>\n",
       "    </tr>\n",
       "    <tr>\n",
       "      <th>Nadia</th>\n",
       "      <td>0.5</td>\n",
       "      <td>0.0</td>\n",
       "      <td>0.500000</td>\n",
       "      <td>1.000000</td>\n",
       "      <td>NaN</td>\n",
       "      <td>1.000000</td>\n",
       "    </tr>\n",
       "  </tbody>\n",
       "</table>\n",
       "</div>"
      ],
      "text/plain": [
       "         Avengers Infinity War  Spiderman  Guardians of the Galaxy Vol 1  \\\n",
       "Rebecca                    0.0        NaN                       0.500000   \n",
       "Brian                      0.0        0.0                            NaN   \n",
       "Justin                     1.0        NaN                       0.666667   \n",
       "Kristin                    NaN        0.5                            NaN   \n",
       "Nadia                      0.5        0.0                       0.500000   \n",
       "\n",
       "         A Simple Favor  Star Wars the Last Jedi  My Cousin Vini  \n",
       "Rebecca        1.000000                      NaN        0.000000  \n",
       "Brian               NaN                      0.0        1.000000  \n",
       "Justin         0.333333                      0.0        0.333333  \n",
       "Kristin             NaN                      1.0        0.000000  \n",
       "Nadia          1.000000                      NaN        1.000000  "
      ]
     },
     "execution_count": 62,
     "metadata": {},
     "output_type": "execute_result"
    }
   ],
   "source": [
    "movie_survey_norm = movie_survey.copy()\n",
    "\n",
    "for reviewer_name in movie_survey.index:\n",
    "    max_value = movie_survey.loc[reviewer_name].max()\n",
    "    min_value = movie_survey.loc[reviewer_name].min()\n",
    "    movie_survey_norm.loc[reviewer_name] = (movie_survey.loc[reviewer_name] - min_value) / (max_value - min_value)\n",
    "\n",
    "movie_survey_norm"
   ]
  },
  {
   "cell_type": "markdown",
   "metadata": {},
   "source": [
    "Average rating for each movie after normalization"
   ]
  },
  {
   "cell_type": "code",
   "execution_count": 65,
   "metadata": {},
   "outputs": [
    {
     "data": {
      "text/plain": [
       "Avengers Infinity War            0.375000\n",
       "Spiderman                        0.166667\n",
       "Guardians of the Galaxy Vol 1    0.555556\n",
       "A Simple Favor                   0.777778\n",
       "Star Wars the Last Jedi          0.333333\n",
       "My Cousin Vini                   0.466667\n",
       "dtype: float64"
      ]
     },
     "execution_count": 65,
     "metadata": {},
     "output_type": "execute_result"
    }
   ],
   "source": [
    "movie_survey_norm.mean()"
   ]
  },
  {
   "cell_type": "markdown",
   "metadata": {},
   "source": [
    "average rating for each reviewer after normalization"
   ]
  },
  {
   "cell_type": "code",
   "execution_count": 66,
   "metadata": {},
   "outputs": [
    {
     "data": {
      "text/plain": [
       "Rebecca    0.375000\n",
       "Brian      0.250000\n",
       "Justin     0.466667\n",
       "Kristin    0.500000\n",
       "Nadia      0.600000\n",
       "dtype: float64"
      ]
     },
     "execution_count": 66,
     "metadata": {},
     "output_type": "execute_result"
    }
   ],
   "source": [
    "movie_survey_norm.mean(axis=1)"
   ]
  },
  {
   "cell_type": "markdown",
   "metadata": {},
   "source": [
    "Provide a text-based conclusion: explain what might be advantages and disadvantages of using normalized ratings instead of the actual ratings.\n",
    "\n",
    "When you normalize data you can bring data that may have been at different scale into a common scale. It can also allow you to compare different variables with equal consideration regaurdless of units.\n",
    "The downside to normalization is that you will loose the outliers that may be present in your data. This could be detrimental as outlier can lead to new insights or possible point out errors in your method."
   ]
  },
  {
   "cell_type": "markdown",
   "metadata": {},
   "source": [
    "Extra Credit: \n",
    "New dataframe with standardized ratings by reviewer\n",
    "\n",
    "standard score:\n",
    "standarized value(x) = (value(x) - average) / standard dev"
   ]
  },
  {
   "cell_type": "code",
   "execution_count": 63,
   "metadata": {
    "scrolled": true
   },
   "outputs": [
    {
     "data": {
      "text/html": [
       "<div>\n",
       "<style scoped>\n",
       "    .dataframe tbody tr th:only-of-type {\n",
       "        vertical-align: middle;\n",
       "    }\n",
       "\n",
       "    .dataframe tbody tr th {\n",
       "        vertical-align: top;\n",
       "    }\n",
       "\n",
       "    .dataframe thead th {\n",
       "        text-align: right;\n",
       "    }\n",
       "</style>\n",
       "<table border=\"1\" class=\"dataframe\">\n",
       "  <thead>\n",
       "    <tr style=\"text-align: right;\">\n",
       "      <th></th>\n",
       "      <th>Avengers Infinity War</th>\n",
       "      <th>Spiderman</th>\n",
       "      <th>Guardians of the Galaxy Vol 1</th>\n",
       "      <th>A Simple Favor</th>\n",
       "      <th>Star Wars the Last Jedi</th>\n",
       "      <th>My Cousin Vini</th>\n",
       "    </tr>\n",
       "  </thead>\n",
       "  <tbody>\n",
       "    <tr>\n",
       "      <th>Rebecca</th>\n",
       "      <td>-0.783349</td>\n",
       "      <td>NaN</td>\n",
       "      <td>0.261116</td>\n",
       "      <td>1.305582</td>\n",
       "      <td>NaN</td>\n",
       "      <td>-0.783349</td>\n",
       "    </tr>\n",
       "    <tr>\n",
       "      <th>Brian</th>\n",
       "      <td>-0.500000</td>\n",
       "      <td>-0.500000</td>\n",
       "      <td>NaN</td>\n",
       "      <td>NaN</td>\n",
       "      <td>-0.500000</td>\n",
       "      <td>1.500000</td>\n",
       "    </tr>\n",
       "    <tr>\n",
       "      <th>Justin</th>\n",
       "      <td>1.403293</td>\n",
       "      <td>NaN</td>\n",
       "      <td>0.526235</td>\n",
       "      <td>-0.350823</td>\n",
       "      <td>-1.227881</td>\n",
       "      <td>-0.350823</td>\n",
       "    </tr>\n",
       "    <tr>\n",
       "      <th>Kristin</th>\n",
       "      <td>NaN</td>\n",
       "      <td>0.000000</td>\n",
       "      <td>NaN</td>\n",
       "      <td>NaN</td>\n",
       "      <td>1.000000</td>\n",
       "      <td>-1.000000</td>\n",
       "    </tr>\n",
       "    <tr>\n",
       "      <th>Nadia</th>\n",
       "      <td>-0.239046</td>\n",
       "      <td>-1.434274</td>\n",
       "      <td>-0.239046</td>\n",
       "      <td>0.956183</td>\n",
       "      <td>NaN</td>\n",
       "      <td>0.956183</td>\n",
       "    </tr>\n",
       "  </tbody>\n",
       "</table>\n",
       "</div>"
      ],
      "text/plain": [
       "         Avengers Infinity War  Spiderman  Guardians of the Galaxy Vol 1  \\\n",
       "Rebecca              -0.783349        NaN                       0.261116   \n",
       "Brian                -0.500000  -0.500000                            NaN   \n",
       "Justin                1.403293        NaN                       0.526235   \n",
       "Kristin                    NaN   0.000000                            NaN   \n",
       "Nadia                -0.239046  -1.434274                      -0.239046   \n",
       "\n",
       "         A Simple Favor  Star Wars the Last Jedi  My Cousin Vini  \n",
       "Rebecca        1.305582                      NaN       -0.783349  \n",
       "Brian               NaN                -0.500000        1.500000  \n",
       "Justin        -0.350823                -1.227881       -0.350823  \n",
       "Kristin             NaN                 1.000000       -1.000000  \n",
       "Nadia          0.956183                      NaN        0.956183  "
      ]
     },
     "execution_count": 63,
     "metadata": {},
     "output_type": "execute_result"
    }
   ],
   "source": [
    "movie_survey_stand = movie_survey.copy()\n",
    "\n",
    "for reviewer_name in movie_survey.index:\n",
    "    mean_value = movie_survey.loc[reviewer_name].mean()\n",
    "    std_value = movie_survey.loc[reviewer_name].std()\n",
    "    movie_survey_stand.loc[reviewer_name] = (movie_survey.loc[reviewer_name] - mean_value) / (std_value)\n",
    "\n",
    "movie_survey_stand"
   ]
  },
  {
   "cell_type": "markdown",
   "metadata": {},
   "source": [
    "Average rating for each movie after standarization"
   ]
  },
  {
   "cell_type": "code",
   "execution_count": 67,
   "metadata": {},
   "outputs": [
    {
     "data": {
      "text/plain": [
       "Avengers Infinity War           -0.029776\n",
       "Spiderman                       -0.644758\n",
       "Guardians of the Galaxy Vol 1    0.182769\n",
       "A Simple Favor                   0.636981\n",
       "Star Wars the Last Jedi         -0.242627\n",
       "My Cousin Vini                   0.064402\n",
       "dtype: float64"
      ]
     },
     "execution_count": 67,
     "metadata": {},
     "output_type": "execute_result"
    }
   ],
   "source": [
    "movie_survey_stand.mean()"
   ]
  },
  {
   "cell_type": "markdown",
   "metadata": {},
   "source": [
    "Average rating for each reviewer after standardization"
   ]
  },
  {
   "cell_type": "code",
   "execution_count": 68,
   "metadata": {},
   "outputs": [
    {
     "data": {
      "text/plain": [
       "Rebecca   -5.551115e-17\n",
       "Brian      0.000000e+00\n",
       "Justin     7.771561e-17\n",
       "Kristin    0.000000e+00\n",
       "Nadia     -1.776357e-16\n",
       "dtype: float64"
      ]
     },
     "execution_count": 68,
     "metadata": {},
     "output_type": "execute_result"
    }
   ],
   "source": [
    "movie_survey_stand.mean(axis=1)"
   ]
  },
  {
   "cell_type": "code",
   "execution_count": null,
   "metadata": {},
   "outputs": [],
   "source": []
  }
 ],
 "metadata": {
  "kernelspec": {
   "display_name": "Python 3",
   "language": "python",
   "name": "python3"
  },
  "language_info": {
   "codemirror_mode": {
    "name": "ipython",
    "version": 3
   },
   "file_extension": ".py",
   "mimetype": "text/x-python",
   "name": "python",
   "nbconvert_exporter": "python",
   "pygments_lexer": "ipython3",
   "version": "3.6.5"
  }
 },
 "nbformat": 4,
 "nbformat_minor": 2
}
